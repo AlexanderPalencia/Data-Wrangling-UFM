{
 "metadata": {
  "language_info": {
   "codemirror_mode": {
    "name": "ipython",
    "version": 3
   },
   "file_extension": ".py",
   "mimetype": "text/x-python",
   "name": "python",
   "nbconvert_exporter": "python",
   "pygments_lexer": "ipython3",
   "version": "3.8.5-final"
  },
  "orig_nbformat": 2,
  "kernelspec": {
   "name": "Python 3.8.5 64-bit",
   "display_name": "Python 3.8.5 64-bit",
   "metadata": {
    "interpreter": {
     "hash": "0de36b31320ba4c88b4f85a74724f3d16c36a44df48581253710b1065e752d9e"
    }
   }
  }
 },
 "nbformat": 4,
 "nbformat_minor": 2,
 "cells": [
  {
   "source": [
    "# Lab 6 Regex in Python\n",
    "## Se hicieron los puntos extras\n",
    "\n",
    "### 1. Detectar placas de un vehículo particular guatemalteco"
   ],
   "cell_type": "markdown",
   "metadata": {}
  },
  {
   "cell_type": "code",
   "execution_count": 88,
   "metadata": {
    "tags": []
   },
   "outputs": [
    {
     "output_type": "stream",
     "name": "stdout",
     "text": "P025BDS  Placa Válida\nP865BBC  Placa Válida\nC432DFA  Placa Inválida\nPADB4334  Placa Inválida\nP324dsf  Placa Válida\n"
    }
   ],
   "source": [
    "import re\n",
    "items = [\"P025BDS\", \"P865BBC\", \"C432DFA\", \"PADB4334\", \"P324dsf\"]\n",
    "for item in items:\n",
    "    validate = re.fullmatch(r\"^P[0-9]{3}[B-DF-HJ-NP-TV-Z]{3}\", item.upper())\n",
    "    if (validate == None):\n",
    "        print(item, ' Placa Inválida')\n",
    "    else:\n",
    "        print(item, ' Placa Válida')"
   ]
  },
  {
   "source": [
    "### 2. Valide si un archivo es de tipo .pdf o jpg.\n",
    "- El nombre del archivo tiene que ser valido es decir no tiene que tener caráteres especiales únicamente _ es permitido\n"
   ],
   "cell_type": "markdown",
   "metadata": {}
  },
  {
   "cell_type": "code",
   "execution_count": 89,
   "metadata": {
    "tags": []
   },
   "outputs": [
    {
     "output_type": "stream",
     "name": "stdout",
     "text": "43d.pdf  Archivo PDF Válido\nimag.jpg  Archivo JPG Válido\nalex.jpg  Archivo JPG Válido\nimg.png  Archivo Inválido\nscript.h  Archivo Inválido\njie43#f.pdf  Archivo Inválido\njie43_f.pdf  Archivo PDF Válido\n"
    }
   ],
   "source": [
    "items = [\"43d.pdf\", \"imag.jpg\", \"alex.jpg\", \"img.png\" , \"script.h\", \"jie43#f.pdf\", \"jie43_f.pdf\"]\n",
    "for item in items:\n",
    "    validate = re.fullmatch(r\"\\w+\\.((pdf|PDF)|(jpg|JPG))\", item)\n",
    "    if (validate != None):\n",
    "        typeFile = re.search('pdf|PDF', item)\n",
    "        if (typeFile != None):\n",
    "            print(item, ' Archivo PDF Válido')\n",
    "        else:\n",
    "            print(item, ' Archivo JPG Válido')\n",
    "    else:\n",
    "        print(item, ' Archivo Inválido')\n",
    "\n"
   ]
  },
  {
   "source": [
    "### 3. Validar contraseñas de correo:\n",
    "- Debe contener por lo menos 8 caracteres\n",
    "- Una letra mayúscula\n",
    "- Un carácter especial."
   ],
   "cell_type": "markdown",
   "metadata": {}
  },
  {
   "cell_type": "code",
   "execution_count": 90,
   "metadata": {
    "tags": []
   },
   "outputs": [
    {
     "output_type": "stream",
     "name": "stdout",
     "text": "Contrasena1.  Contraseña Válida\ninvalidaie32  Contraseña Inválida\nRetromax$ds2  Contraseña Válida\n4alexitos*  Contraseña Válida\nP324dsfwe  Contraseña Inválida\n"
    }
   ],
   "source": [
    "items = [\"Contrasena1.\", \"invalidaie32\", \"Retromax$ds2\", \"4alexitos*\", \"P324dsfwe\"]\n",
    "for item in items:\n",
    "    validate = re.fullmatch(r\"^(?=.*[A-Z])(?=.*[\\@\\$\\!\\%\\*\\#\\?\\&\\.\\>\\<\\(\\)])[A-Za-z\\d\\@\\$\\!\\%\\*\\#\\?\\&\\.\\>\\<\\(\\)]{8,}$\", item.upper())\n",
    "    if (validate == None):\n",
    "        print(item, ' Contraseña Inválida')\n",
    "    else:\n",
    "        print(item, ' Contraseña Válida')\n",
    "\n",
    "\n",
    "\n"
   ]
  },
  {
   "source": [
    "4. ### Validar un número de carnet de la Universidad Galileo\n",
    "- Los primeros dos dígitos representan el año en el que el alumno se inscribió los cuales pueden variar desde el 01 (año 2001) hasta el 30 (año 2030). \n",
    "- Los siguientes dos dígitos son cero (00) los cuales van por default.\n",
    "- Los últimos cuatro dígitos son un número que va desde el 1110 hasta el 8970."
   ],
   "cell_type": "markdown",
   "metadata": {}
  },
  {
   "cell_type": "code",
   "execution_count": 91,
   "metadata": {
    "tags": []
   },
   "outputs": [
    {
     "output_type": "stream",
     "name": "stdout",
     "text": "01001110  Carnet Válido\n08008423  Carnet Válido\n40007021  Carnet Inválido\n30005623  Carnet Válido\n27018956  Carnet Inválido\n15006799  Carnet Válido\n1500679a  Carnet Inválido\n"
    }
   ],
   "source": [
    "items = [\"01001110\", \"08008423\", \"40007021\", \"30005623\", \"27018956\", \"15006799\", \"1500679a\"]\n",
    "for item in items:\n",
    "    validate = re.fullmatch(r\"((0[1-9])|([1-2][0-9]|30))00(111[0-9]|11[2-9][0-9]|89[0-7]0|[2-8][0-8][0-9][0-9])$\", item)\n",
    "    if (validate == None):\n",
    "        print(item, ' Carnet Inválido')\n",
    "    else:\n",
    "        print(item, ' Carnet Válido')\n",
    "\n"
   ]
  },
  {
   "source": [
    "5. ### Expresión regular que encuentre todas las palabras de la primera línea, pero ninguna de la segunda.\n",
    "- pit, spot, spate, slap two, respite\n",
    "- pt,Pot,peat,part\n"
   ],
   "cell_type": "markdown",
   "metadata": {}
  },
  {
   "cell_type": "code",
   "execution_count": 92,
   "metadata": {
    "tags": []
   },
   "outputs": [
    {
     "output_type": "stream",
     "name": "stdout",
     "text": "spot  Palabra Válida\npart  Palabra Inválida\nrespite  Palabra Válida\npeat  Palabra Inválida\npit  Palabra Válida\npart  Palabra Inválida\nPot  Palabra Inválida\npt  Palabra Inválida\nslap  Palabra Válida\nspate  Palabra Válida\n"
    }
   ],
   "source": [
    "items = [\"spot\", \"part\", \"respite\", \"peat\", \"pit\", \"part\", \"Pot\", \"pt\", \"slap\", \"spate\"]\n",
    "for item in items:\n",
    "    validate = re.fullmatch(r\"pit|spot|spate|slap|two|respite\", item)\n",
    "    if (validate == None):\n",
    "        print(item, ' Palabra Inválida')\n",
    "    else:\n",
    "        print(item, ' Palabra Válida')\n"
   ]
  },
  {
   "source": [
    "6. ### Obtener los números telefónicos de Guatemala.\n",
    "- Estos pueden contener al inicio +502 o 502.\n",
    "- Pueden estar separados por un espacio en blanco o un guión o juntos.\n",
    "- Números telefónicos pueden empezar únicamente con 4,5,6 o 2."
   ],
   "cell_type": "markdown",
   "metadata": {}
  },
  {
   "cell_type": "code",
   "execution_count": 93,
   "metadata": {
    "tags": []
   },
   "outputs": [
    {
     "output_type": "stream",
     "name": "stdout",
     "text": "+50254821151  Número Válido\n4210-7640  Número Válido\n52018150  Número Válido\n2434 6854  Número Válido\n11234569  Número Inválido\n50211234578  Número Inválido\n"
    }
   ],
   "source": [
    "items = ['+50254821151', '4210-7640', '52018150', '2434 6854', '11234569', '50211234578']\n",
    "for item in items:\n",
    "    validate = re.fullmatch(r\"^(\\+502|502)?(\\-| )?[2456]([0-9](\\-| )?){7}\", item)\n",
    "    if (validate == None):\n",
    "        print(item, ' Número Inválido')\n",
    "    else:\n",
    "        print(item, ' Número Válido')\n",
    "\n",
    "    "
   ]
  },
  {
   "source": [
    "7. ### Obtener correos de la UFM.\n",
    "- Se tomo como regla las de gmail ya que el correo es de gsuit adjunto link donde se encuentra las reglas [gmail Rueles for username](https://support.google.com/mail/answer/9211434?hl=en)\n",
    "\n",
    "* Usernames can contain letters (a-z), numbers (0-9), and periods (.).\n",
    "* Usernames cannot contain an ampersand (&), equals sign (=), underscore (_), apostrophe ('), dash (-), plus sign (+), comma (,), brackets (<,>), or more than one period (.) in a row.\n",
    "* Usernames can begin or end with non-alphanumeric characters except periods (.). "
   ],
   "cell_type": "markdown",
   "metadata": {}
  },
  {
   "cell_type": "code",
   "execution_count": 94,
   "metadata": {
    "tags": []
   },
   "outputs": [
    {
     "output_type": "stream",
     "name": "stdout",
     "text": "mapalencia@ufm.edu  Correo Valido\nelder23.jife@ufm.edu  Correo Valido\njuan.manuel@ufm.edu  Correo Valido\ncorreo2@gmail.com  Correo Inválido\nji2#de@ufm.edu  Correo Inválido\npalencia23@ufm.edu  Correo Valido\ndoble..puntos@ufm.edu  Correo Inválido\n"
    }
   ],
   "source": [
    "items = ['mapalencia@ufm.edu', 'elder23.jife@ufm.edu', 'juan.manuel@ufm.edu', 'correo2@gmail.com', 'ji2#de@ufm.edu', 'palencia23@ufm.edu', 'doble..puntos@ufm.edu']\n",
    "for item in items:\n",
    "    validate = re.fullmatch(r\"^[^\\.](\\.?[a-zA-Z0-9]){1,}[^\\.]\\@ufm\\.edu\", item)\n",
    "    if (validate == None):\n",
    "        print(item, ' Correo Inválido')\n",
    "    else:\n",
    "        print(item, ' Correo Valido')"
   ]
  },
  {
   "source": [
    "8. ### En el mundo distópico de Eurasia, Big Brother le asigna un identificador único a cada ciudadano. Genere una expresión regular que valide las identificaciones. Composición del id:\n",
    "* El id inicia con 0 a 3 letras minúsculas (puede tener 0 letras minúsculas hasta tres letras minúsculas)\n",
    "* Luego es seguido por una cadena de dígitos que puede ser de 2 a 9 dígitos respectivamente.\n",
    "* Inmediatamente después de la cadena de dígitos, se encuentra por lo menos tres letras mayúsculas.\n",
    "* Ej: abc012333ABCDEEEE"
   ],
   "cell_type": "markdown",
   "metadata": {}
  },
  {
   "cell_type": "code",
   "execution_count": 95,
   "metadata": {
    "tags": []
   },
   "outputs": [
    {
     "output_type": "stream",
     "name": "stdout",
     "text": "abc012333ABCDEEEE  ID Válido\ndse57ASEWQE  ID Válido\nDse57ASEWQE  ID Inválido\nade3ADWC  ID Inválido\nqwe321234123412341234ASDFSADF  ID Inválido\nytf123456789AAA  ID Válido\n1234567AAA  ID Válido\n"
    }
   ],
   "source": [
    "items = ['abc012333ABCDEEEE', 'dse57ASEWQE', 'Dse57ASEWQE', 'ade3ADWC', 'qwe321234123412341234ASDFSADF', 'ytf123456789AAA', '1234567AAA']\n",
    "for item in items:\n",
    "    validate = re.fullmatch(r\"[a-z]{0,3}[0-9][0-9][0-9]{0,7}[A-Z]{3,}\", item)\n",
    "    if (validate == None):\n",
    "        print(item, ' ID Inválido')\n",
    "    else:\n",
    "        print(item, ' ID Válido')"
   ]
  },
  {
   "cell_type": "code",
   "execution_count": null,
   "metadata": {},
   "outputs": [],
   "source": []
  }
 ]
}