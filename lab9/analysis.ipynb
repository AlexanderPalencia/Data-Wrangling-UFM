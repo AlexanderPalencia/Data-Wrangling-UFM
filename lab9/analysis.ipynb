{
 "metadata": {
  "language_info": {
   "codemirror_mode": {
    "name": "ipython",
    "version": 3
   },
   "file_extension": ".py",
   "mimetype": "text/x-python",
   "name": "python",
   "nbconvert_exporter": "python",
   "pygments_lexer": "ipython3",
   "version": "3.8.5-final"
  },
  "orig_nbformat": 2,
  "kernelspec": {
   "name": "python3",
   "display_name": "Python 3"
  }
 },
 "nbformat": 4,
 "nbformat_minor": 2,
 "cells": [
  {
   "source": [
    "import re\n",
    "import pandas as pd\n",
    "import nltk\n",
    "from nltk.sentiment.vader import SentimentIntensityAnalyzer\n",
    "nltk.download('vader_lexicon')"
   ],
   "cell_type": "code",
   "metadata": {},
   "execution_count": 63,
   "outputs": [
    {
     "output_type": "stream",
     "name": "stderr",
     "text": [
      "[nltk_data] Downloading package vader_lexicon to\n[nltk_data]     C:\\Users\\Alex\\AppData\\Roaming\\nltk_data...\n"
     ]
    },
    {
     "output_type": "execute_result",
     "data": {
      "text/plain": [
       "True"
      ]
     },
     "metadata": {},
     "execution_count": 63
    }
   ]
  },
  {
   "cell_type": "code",
   "execution_count": 64,
   "metadata": {},
   "outputs": [
    {
     "output_type": "execute_result",
     "data": {
      "text/plain": [
       "(5757, 16)"
      ]
     },
     "metadata": {},
     "execution_count": 64
    }
   ],
   "source": [
    "democrants = pd.read_csv(\"./Data/democrats.csv\")\n",
    "democrants.shape"
   ]
  },
  {
   "cell_type": "code",
   "execution_count": 65,
   "metadata": {},
   "outputs": [
    {
     "output_type": "execute_result",
     "data": {
      "text/plain": [
       "(10000, 16)"
      ]
     },
     "metadata": {},
     "execution_count": 65
    }
   ],
   "source": [
    "republicans = pd.read_csv(\"./Data/republicans.csv\")\n",
    "republicans.shape"
   ]
  },
  {
   "cell_type": "code",
   "execution_count": 67,
   "metadata": {},
   "outputs": [],
   "source": [
    "republicans[\"created\"] = republicans[\"created\"].str.split(\"T\", n = 1, expand = True)\n",
    "democrants[\"created\"] = democrants[\"created\"].str.split(\"T\", n = 1, expand = True)\n",
    "\n",
    "def limpieza(text):\n",
    "  text1 = re.sub(\"RT @[\\w]*:\",\"\",text)\n",
    "  text1 = re.sub(\"@[\\w]*\",\"\",text)\n",
    "  text1 = re.sub(\"https?://[A-Za-z0-9./]*\",\"\",text)\n",
    "  text1 = re.sub(\"\\n\",\"\",text)\n",
    "  return text1\n",
    "\n",
    "republicans['text'] = republicans['text'].apply(lambda x: limpieza(x))\n",
    "democrants['text'] = democrants['text'].apply(lambda x: limpieza(x))\n",
    "\n"
   ]
  },
  {
   "cell_type": "code",
   "execution_count": 68,
   "metadata": {},
   "outputs": [],
   "source": [
    "sid = SentimentIntensityAnalyzer()\n",
    "republicans['sentiment'] = republicans['text'].apply(lambda x: sid.polarity_scores(x))\n",
    "democrants['sentiment'] = democrants['text'].apply(lambda x: sid.polarity_scores(x))"
   ]
  },
  {
   "cell_type": "code",
   "execution_count": 90,
   "metadata": {},
   "outputs": [],
   "source": [
    "def analisisSentimental(sentiment):\n",
    "    if sentiment['compound'] >= 0.05:\n",
    "        return \"Positive\"\n",
    "    elif sentiment['compound'] <= -0.05:\n",
    "        return \"Negative\"\n",
    "    else:\n",
    "        return \"Neutral\"\n",
    "\n",
    "republicans['sentiment_overall'] = republicans['sentiment'].apply(lambda x: analisisSentimental(x))\n",
    "democrants['sentiment_overall'] = democrants['sentiment'].apply(lambda x: analisisSentimental(x))"
   ]
  },
  {
   "cell_type": "code",
   "execution_count": 94,
   "metadata": {
    "tags": []
   },
   "outputs": [
    {
     "output_type": "execute_result",
     "data": {
      "text/plain": [
       "                  favorited       favoriteCount       truncated        \\\n",
       "                       mean count          mean count      mean count   \n",
       "sentiment_overall                                                       \n",
       "Negative              False  4090      1.244499  4090  0.522249  4090   \n",
       "Neutral               False  2929      0.922499  2929  0.451007  2929   \n",
       "Positive              False  2981      1.980543  2981  0.484401  2981   \n",
       "\n",
       "                     replyToSID                         id        ...  \\\n",
       "                           mean count                 mean count  ...   \n",
       "sentiment_overall                                                 ...   \n",
       "Negative           1.328636e+18   754  1328956472321368576  4090  ...   \n",
       "Neutral            1.328390e+18   614  1328969208930590464  2929  ...   \n",
       "Positive           1.328585e+18   605  1329003688116616704  2981  ...   \n",
       "\n",
       "                  retweetCount       isRetweet       retweeted        \\\n",
       "                          mean count      mean count      mean count   \n",
       "sentiment_overall                                                      \n",
       "Negative             16.448655  4090  0.346455  4090     False  4090   \n",
       "Neutral              22.437351  2929  0.295664  2929     False  2929   \n",
       "Positive             84.827239  2981  0.387454  2981     False  2981   \n",
       "\n",
       "                   longitude         latitude        \n",
       "                        mean count       mean count  \n",
       "sentiment_overall                                    \n",
       "Negative                 NaN     0        NaN     0  \n",
       "Neutral                  NaN     0        NaN     0  \n",
       "Positive          -74.166739     1  41.427514     1  \n",
       "\n",
       "[3 rows x 22 columns]"
      ],
      "text/html": "<div>\n<style scoped>\n    .dataframe tbody tr th:only-of-type {\n        vertical-align: middle;\n    }\n\n    .dataframe tbody tr th {\n        vertical-align: top;\n    }\n\n    .dataframe thead tr th {\n        text-align: left;\n    }\n\n    .dataframe thead tr:last-of-type th {\n        text-align: right;\n    }\n</style>\n<table border=\"1\" class=\"dataframe\">\n  <thead>\n    <tr>\n      <th></th>\n      <th colspan=\"2\" halign=\"left\">favorited</th>\n      <th colspan=\"2\" halign=\"left\">favoriteCount</th>\n      <th colspan=\"2\" halign=\"left\">truncated</th>\n      <th colspan=\"2\" halign=\"left\">replyToSID</th>\n      <th colspan=\"2\" halign=\"left\">id</th>\n      <th>...</th>\n      <th colspan=\"2\" halign=\"left\">retweetCount</th>\n      <th colspan=\"2\" halign=\"left\">isRetweet</th>\n      <th colspan=\"2\" halign=\"left\">retweeted</th>\n      <th colspan=\"2\" halign=\"left\">longitude</th>\n      <th colspan=\"2\" halign=\"left\">latitude</th>\n    </tr>\n    <tr>\n      <th></th>\n      <th>mean</th>\n      <th>count</th>\n      <th>mean</th>\n      <th>count</th>\n      <th>mean</th>\n      <th>count</th>\n      <th>mean</th>\n      <th>count</th>\n      <th>mean</th>\n      <th>count</th>\n      <th>...</th>\n      <th>mean</th>\n      <th>count</th>\n      <th>mean</th>\n      <th>count</th>\n      <th>mean</th>\n      <th>count</th>\n      <th>mean</th>\n      <th>count</th>\n      <th>mean</th>\n      <th>count</th>\n    </tr>\n    <tr>\n      <th>sentiment_overall</th>\n      <th></th>\n      <th></th>\n      <th></th>\n      <th></th>\n      <th></th>\n      <th></th>\n      <th></th>\n      <th></th>\n      <th></th>\n      <th></th>\n      <th></th>\n      <th></th>\n      <th></th>\n      <th></th>\n      <th></th>\n      <th></th>\n      <th></th>\n      <th></th>\n      <th></th>\n      <th></th>\n      <th></th>\n    </tr>\n  </thead>\n  <tbody>\n    <tr>\n      <th>Negative</th>\n      <td>False</td>\n      <td>4090</td>\n      <td>1.244499</td>\n      <td>4090</td>\n      <td>0.522249</td>\n      <td>4090</td>\n      <td>1.328636e+18</td>\n      <td>754</td>\n      <td>1328956472321368576</td>\n      <td>4090</td>\n      <td>...</td>\n      <td>16.448655</td>\n      <td>4090</td>\n      <td>0.346455</td>\n      <td>4090</td>\n      <td>False</td>\n      <td>4090</td>\n      <td>NaN</td>\n      <td>0</td>\n      <td>NaN</td>\n      <td>0</td>\n    </tr>\n    <tr>\n      <th>Neutral</th>\n      <td>False</td>\n      <td>2929</td>\n      <td>0.922499</td>\n      <td>2929</td>\n      <td>0.451007</td>\n      <td>2929</td>\n      <td>1.328390e+18</td>\n      <td>614</td>\n      <td>1328969208930590464</td>\n      <td>2929</td>\n      <td>...</td>\n      <td>22.437351</td>\n      <td>2929</td>\n      <td>0.295664</td>\n      <td>2929</td>\n      <td>False</td>\n      <td>2929</td>\n      <td>NaN</td>\n      <td>0</td>\n      <td>NaN</td>\n      <td>0</td>\n    </tr>\n    <tr>\n      <th>Positive</th>\n      <td>False</td>\n      <td>2981</td>\n      <td>1.980543</td>\n      <td>2981</td>\n      <td>0.484401</td>\n      <td>2981</td>\n      <td>1.328585e+18</td>\n      <td>605</td>\n      <td>1329003688116616704</td>\n      <td>2981</td>\n      <td>...</td>\n      <td>84.827239</td>\n      <td>2981</td>\n      <td>0.387454</td>\n      <td>2981</td>\n      <td>False</td>\n      <td>2981</td>\n      <td>-74.166739</td>\n      <td>1</td>\n      <td>41.427514</td>\n      <td>1</td>\n    </tr>\n  </tbody>\n</table>\n<p>3 rows × 22 columns</p>\n</div>"
     },
     "metadata": {},
     "execution_count": 94
    }
   ],
   "source": [
    "republicans.groupby(['sentiment_overall']).agg(['mean', 'count'])\n",
    "    "
   ]
  },
  {
   "cell_type": "code",
   "execution_count": 95,
   "metadata": {},
   "outputs": [
    {
     "output_type": "execute_result",
     "data": {
      "text/plain": [
       "                  favorited       favoriteCount       truncated        \\\n",
       "                       mean count          mean count      mean count   \n",
       "sentiment_overall                                                       \n",
       "Negative              False  1880      1.848404  1880  0.536702  1880   \n",
       "Neutral               False  2195      1.471982  2195  0.373121  2195   \n",
       "Positive              False  1682      1.412010  1682  0.492866  1682   \n",
       "\n",
       "                     replyToSID                         id        ...  \\\n",
       "                           mean count                 mean count  ...   \n",
       "sentiment_overall                                                 ...   \n",
       "Negative           1.328921e+18   395  1329180677819976448  1880  ...   \n",
       "Neutral            1.322572e+18   332  1329164333563689728  2195  ...   \n",
       "Positive           1.328445e+18   366  1329183428848357120  1682  ...   \n",
       "\n",
       "                  retweetCount       isRetweet       retweeted        \\\n",
       "                          mean count      mean count      mean count   \n",
       "sentiment_overall                                                      \n",
       "Negative             37.126064  1880  0.292553  1880     False  1880   \n",
       "Neutral              41.165376  2195  0.353986  2195     False  2195   \n",
       "Positive            291.611177  1682  0.354935  1682     False  1682   \n",
       "\n",
       "                  longitude       latitude        \n",
       "                       mean count     mean count  \n",
       "sentiment_overall                                 \n",
       "Negative                NaN     0      NaN     0  \n",
       "Neutral                 NaN     0      NaN     0  \n",
       "Positive                NaN     0      NaN     0  \n",
       "\n",
       "[3 rows x 22 columns]"
      ],
      "text/html": "<div>\n<style scoped>\n    .dataframe tbody tr th:only-of-type {\n        vertical-align: middle;\n    }\n\n    .dataframe tbody tr th {\n        vertical-align: top;\n    }\n\n    .dataframe thead tr th {\n        text-align: left;\n    }\n\n    .dataframe thead tr:last-of-type th {\n        text-align: right;\n    }\n</style>\n<table border=\"1\" class=\"dataframe\">\n  <thead>\n    <tr>\n      <th></th>\n      <th colspan=\"2\" halign=\"left\">favorited</th>\n      <th colspan=\"2\" halign=\"left\">favoriteCount</th>\n      <th colspan=\"2\" halign=\"left\">truncated</th>\n      <th colspan=\"2\" halign=\"left\">replyToSID</th>\n      <th colspan=\"2\" halign=\"left\">id</th>\n      <th>...</th>\n      <th colspan=\"2\" halign=\"left\">retweetCount</th>\n      <th colspan=\"2\" halign=\"left\">isRetweet</th>\n      <th colspan=\"2\" halign=\"left\">retweeted</th>\n      <th colspan=\"2\" halign=\"left\">longitude</th>\n      <th colspan=\"2\" halign=\"left\">latitude</th>\n    </tr>\n    <tr>\n      <th></th>\n      <th>mean</th>\n      <th>count</th>\n      <th>mean</th>\n      <th>count</th>\n      <th>mean</th>\n      <th>count</th>\n      <th>mean</th>\n      <th>count</th>\n      <th>mean</th>\n      <th>count</th>\n      <th>...</th>\n      <th>mean</th>\n      <th>count</th>\n      <th>mean</th>\n      <th>count</th>\n      <th>mean</th>\n      <th>count</th>\n      <th>mean</th>\n      <th>count</th>\n      <th>mean</th>\n      <th>count</th>\n    </tr>\n    <tr>\n      <th>sentiment_overall</th>\n      <th></th>\n      <th></th>\n      <th></th>\n      <th></th>\n      <th></th>\n      <th></th>\n      <th></th>\n      <th></th>\n      <th></th>\n      <th></th>\n      <th></th>\n      <th></th>\n      <th></th>\n      <th></th>\n      <th></th>\n      <th></th>\n      <th></th>\n      <th></th>\n      <th></th>\n      <th></th>\n      <th></th>\n    </tr>\n  </thead>\n  <tbody>\n    <tr>\n      <th>Negative</th>\n      <td>False</td>\n      <td>1880</td>\n      <td>1.848404</td>\n      <td>1880</td>\n      <td>0.536702</td>\n      <td>1880</td>\n      <td>1.328921e+18</td>\n      <td>395</td>\n      <td>1329180677819976448</td>\n      <td>1880</td>\n      <td>...</td>\n      <td>37.126064</td>\n      <td>1880</td>\n      <td>0.292553</td>\n      <td>1880</td>\n      <td>False</td>\n      <td>1880</td>\n      <td>NaN</td>\n      <td>0</td>\n      <td>NaN</td>\n      <td>0</td>\n    </tr>\n    <tr>\n      <th>Neutral</th>\n      <td>False</td>\n      <td>2195</td>\n      <td>1.471982</td>\n      <td>2195</td>\n      <td>0.373121</td>\n      <td>2195</td>\n      <td>1.322572e+18</td>\n      <td>332</td>\n      <td>1329164333563689728</td>\n      <td>2195</td>\n      <td>...</td>\n      <td>41.165376</td>\n      <td>2195</td>\n      <td>0.353986</td>\n      <td>2195</td>\n      <td>False</td>\n      <td>2195</td>\n      <td>NaN</td>\n      <td>0</td>\n      <td>NaN</td>\n      <td>0</td>\n    </tr>\n    <tr>\n      <th>Positive</th>\n      <td>False</td>\n      <td>1682</td>\n      <td>1.412010</td>\n      <td>1682</td>\n      <td>0.492866</td>\n      <td>1682</td>\n      <td>1.328445e+18</td>\n      <td>366</td>\n      <td>1329183428848357120</td>\n      <td>1682</td>\n      <td>...</td>\n      <td>291.611177</td>\n      <td>1682</td>\n      <td>0.354935</td>\n      <td>1682</td>\n      <td>False</td>\n      <td>1682</td>\n      <td>NaN</td>\n      <td>0</td>\n      <td>NaN</td>\n      <td>0</td>\n    </tr>\n  </tbody>\n</table>\n<p>3 rows × 22 columns</p>\n</div>"
     },
     "metadata": {},
     "execution_count": 95
    }
   ],
   "source": [
    "democrants.groupby(['sentiment_overall']).agg(['mean', 'count'])"
   ]
  },
  {
   "cell_type": "code",
   "execution_count": 91,
   "metadata": {},
   "outputs": [
    {
     "output_type": "execute_result",
     "data": {
      "text/plain": [
       "0        Neutral\n",
       "1       Positive\n",
       "2        Neutral\n",
       "3        Neutral\n",
       "4       Positive\n",
       "          ...   \n",
       "9995     Neutral\n",
       "9996    Negative\n",
       "9997     Neutral\n",
       "9998     Neutral\n",
       "9999    Negative\n",
       "Name: sentiment_overall, Length: 10000, dtype: object"
      ]
     },
     "metadata": {},
     "execution_count": 91
    }
   ],
   "source": []
  },
  {
   "cell_type": "code",
   "execution_count": null,
   "metadata": {},
   "outputs": [],
   "source": []
  }
 ]
}