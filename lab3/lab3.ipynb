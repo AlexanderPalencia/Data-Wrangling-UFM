{
 "cells": [
  {
   "cell_type": "markdown",
   "metadata": {},
   "source": [
    "# LAB 3"
   ]
  },
  {
   "cell_type": "code",
   "execution_count": 2,
   "metadata": {},
   "outputs": [],
   "source": [
    "import sqlite3\n",
    "import pandas as pd\n",
    "conn = sqlite3.connect('sql-murder-mystery.db')\n",
    "# cursorObj = conn.cursor()"
   ]
  },
  {
   "cell_type": "code",
   "execution_count": 6,
   "metadata": {},
   "outputs": [
    {
     "name": "stdout",
     "output_type": "stream",
     "text": [
      "                     name\n",
      "0      crime_scene_report\n",
      "1         drivers_license\n",
      "2                  person\n",
      "3  facebook_event_checkin\n",
      "4               interview\n",
      "5      get_fit_now_member\n",
      "6    get_fit_now_check_in\n",
      "7                  income\n",
      "8                solution\n"
     ]
    }
   ],
   "source": [
    "# cursorObj.execute(\"SELECT name FROM sqlite_master WHERE type='table'\")\n",
    "# rows = cursorObj.fetchall()\n",
    "\n",
    "# for row in rows:\n",
    "#     print(row)\n",
    "    \n",
    "    \n",
    "tables = pd.read_sql(\"SELECT name FROM sqlite_master WHERE type='table'\",conn)\n",
    "\n",
    "print(tables)"
   ]
  },
  {
   "cell_type": "code",
   "execution_count": null,
   "metadata": {},
   "outputs": [],
   "source": []
  }
 ],
 "metadata": {
  "kernelspec": {
   "display_name": "Python 3",
   "language": "python",
   "name": "python3"
  },
  "language_info": {
   "codemirror_mode": {
    "name": "ipython",
    "version": 3
   },
   "file_extension": ".py",
   "mimetype": "text/x-python",
   "name": "python",
   "nbconvert_exporter": "python",
   "pygments_lexer": "ipython3",
   "version": "3.8.5"
  }
 },
 "nbformat": 4,
 "nbformat_minor": 4
}
