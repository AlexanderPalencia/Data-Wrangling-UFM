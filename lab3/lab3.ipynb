{
 "cells": [
  {
   "cell_type": "markdown",
   "metadata": {},
   "source": [
    "# LAB 3"
   ]
  },
  {
   "cell_type": "code",
   "execution_count": 4,
   "metadata": {},
   "outputs": [],
   "source": [
    "import sqlite3\n",
    "import pandas as pd\n",
    "conn = sqlite3.connect('sql-murder-mystery.db')\n",
    "cursorObj = conn.cursor()"
   ]
  },
  {
   "cell_type": "markdown",
   "metadata": {},
   "source": [
    "### Show tables of the db"
   ]
  },
  {
   "cell_type": "code",
   "execution_count": 5,
   "metadata": {},
   "outputs": [
    {
     "name": "stdout",
     "output_type": "stream",
     "text": [
      "                     name\n",
      "0      crime_scene_report\n",
      "1         drivers_license\n",
      "2                  person\n",
      "3  facebook_event_checkin\n",
      "4               interview\n",
      "5      get_fit_now_member\n",
      "6    get_fit_now_check_in\n",
      "7                  income\n",
      "8                solution\n"
     ]
    }
   ],
   "source": [
    "# cursorObj.execute(\"SELECT name FROM sqlite_master WHERE type='table'\")\n",
    "# rows = cursorObj.fetchall()\n",
    "\n",
    "# for row in rows:\n",
    "#     print(row)\n",
    "    \n",
    "    \n",
    "tables = pd.read_sql(\"SELECT name FROM sqlite_master WHERE type='table'\",conn)\n",
    "\n",
    "print(tables)"
   ]
  },
  {
   "cell_type": "markdown",
   "metadata": {},
   "source": [
    "#### Describing tables of the db and their relationships"
   ]
  },
  {
   "cell_type": "code",
   "execution_count": 75,
   "metadata": {},
   "outputs": [
    {
     "name": "stdout",
     "output_type": "stream",
     "text": [
      "[('CREATE TABLE crime_scene_report (\\n        date integer,\\n        type text,\\n        description text,\\n        city text\\n    )',)]\n",
      "[('CREATE TABLE drivers_license (\\n        id integer PRIMARY KEY,\\n        age integer,\\n        height integer,\\n        eye_color text,\\n        hair_color text,\\n        gender text,\\n        plate_number text,\\n        car_make text,\\n        car_model text\\n    )',)]\n",
      "[('CREATE TABLE person (\\n        id integer PRIMARY KEY,\\n        name text,\\n        license_id integer,\\n        address_number integer,\\n        address_street_name text,\\n        ssn integer,\\n        FOREIGN KEY (license_id) REFERENCES drivers_license(id)\\n    )',)]\n",
      "[('CREATE TABLE facebook_event_checkin (\\n        person_id integer,\\n        event_id integer,\\n        event_name text,\\n        date integer,\\n        FOREIGN KEY (person_id) REFERENCES person(id)\\n    )',)]\n",
      "[('CREATE TABLE interview (\\n        person_id integer,\\n        transcript text,\\n        FOREIGN KEY (person_id) REFERENCES person(id)\\n    )',)]\n",
      "[('CREATE TABLE get_fit_now_member (\\n        id text PRIMARY KEY,\\n        person_id integer,\\n        name text,\\n        membership_start_date integer,\\n        membership_status text,\\n        FOREIGN KEY (person_id) REFERENCES person(id)\\n    )',)]\n",
      "[('CREATE TABLE get_fit_now_check_in (\\n        membership_id text,\\n        check_in_date integer,\\n        check_in_time integer,\\n        check_out_time integer,\\n        FOREIGN KEY (membership_id) REFERENCES get_fit_now_member(id)\\n    )',)]\n",
      "[('CREATE TABLE income (\\n        ssn integer PRIMARY KEY,\\n        annual_income integer\\n    )',)]\n"
     ]
    }
   ],
   "source": [
    "print(cursorObj.execute(\"SELECT sql FROM sqlite_master WHERE name='crime_scene_report';\").fetchall())\n",
    "print(cursorObj.execute(\"SELECT sql FROM sqlite_master WHERE name='drivers_license';\").fetchall())\n",
    "print(cursorObj.execute(\"SELECT sql FROM sqlite_master WHERE name='person';\").fetchall())\n",
    "print(cursorObj.execute(\"SELECT sql FROM sqlite_master WHERE name='facebook_event_checkin';\").fetchall())\n",
    "print(cursorObj.execute(\"SELECT sql FROM sqlite_master WHERE name='interview';\").fetchall())\n",
    "print(cursorObj.execute(\"SELECT sql FROM sqlite_master WHERE name='get_fit_now_member';\").fetchall())\n",
    "print(cursorObj.execute(\"SELECT sql FROM sqlite_master WHERE name='get_fit_now_check_in';\").fetchall())\n",
    "print(cursorObj.execute(\"SELECT sql FROM sqlite_master WHERE name='income';\").fetchall())"
   ]
  },
  {
   "cell_type": "markdown",
   "metadata": {},
   "source": [
    "#### Select tables for examples"
   ]
  },
  {
   "cell_type": "code",
   "execution_count": 25,
   "metadata": {},
   "outputs": [
    {
     "name": "stdout",
     "output_type": "stream",
     "text": [
      "      id                name  license_id  address_number address_street_name  \\\n",
      "0  10000  Christoper Peteuil      993845             624        Bankhall Ave   \n",
      "\n",
      "         ssn  \n",
      "0  747714076  \n",
      "       id  age  height eye_color hair_color gender plate_number car_make  \\\n",
      "0  100280   72      57     brown        red   male       P24L4U    Acura   \n",
      "\n",
      "  car_model  \n",
      "0       MDX  \n"
     ]
    }
   ],
   "source": [
    "tables = pd.read_sql(\"SELECT * FROM person LIMIT 1\",conn)\n",
    "print(tables)\n",
    "\n",
    "tables = pd.read_sql(\"SELECT * FROM drivers_license LIMIT 1\",conn)\n",
    "print(tables)"
   ]
  },
  {
   "cell_type": "markdown",
   "metadata": {},
   "source": [
    "#### Finding the murder of January 15, 2018 in SQL City"
   ]
  },
  {
   "cell_type": "code",
   "execution_count": 42,
   "metadata": {},
   "outputs": [
    {
     "name": "stdout",
     "output_type": "stream",
     "text": [
      "[('Security footage shows that there were 2 witnesses. The first witness lives at the last house on \"Northwestern Dr\". The second witness, named Annabel, lives somewhere on \"Franklin Ave\".',)]\n"
     ]
    }
   ],
   "source": [
    "print(cursorObj.execute(\"SELECT description FROM crime_scene_report WHERE date = 20180115 AND type = 'murder' AND city = 'SQL City'\").fetchall())"
   ]
  },
  {
   "cell_type": "markdown",
   "metadata": {},
   "source": [
    "#### First witnesess: Morty Schapiro"
   ]
  },
  {
   "cell_type": "code",
   "execution_count": 71,
   "metadata": {},
   "outputs": [
    {
     "name": "stdout",
     "output_type": "stream",
     "text": [
      "[(4919, 14887, 'Morty Schapiro', 118009, 4919, 'Northwestern Dr', 111564949, 14887, 'I heard a gunshot and then saw a man run out. He had a \"Get Fit Now Gym\" bag. The membership number on the bag started with \"48Z\". Only gold members have those bags. The man got into a car with a plate that included \"H42W\".')]\n"
     ]
    }
   ],
   "source": [
    "print(cursorObj.execute(\"SELECT MAX(address_number), * FROM person AS p INNER JOIN interview AS t ON p.id = t.person_id WHERE p.address_street_name = 'Northwestern Dr'\").fetchall())"
   ]
  },
  {
   "cell_type": "markdown",
   "metadata": {},
   "source": [
    "#### Second witnesess: Annabel Miller"
   ]
  },
  {
   "cell_type": "code",
   "execution_count": 73,
   "metadata": {},
   "outputs": [
    {
     "name": "stdout",
     "output_type": "stream",
     "text": [
      "[(16371, 'Annabel Miller', 490173, 103, 'Franklin Ave', 318771143, 16371, 'I saw the murder happen, and I recognized the killer from my gym when I was working out last week on January the 9th.')]\n"
     ]
    }
   ],
   "source": [
    "print(cursorObj.execute(\"SELECT * FROM person AS p INNER JOIN interview AS t ON p.id = t.person_id WHERE p.name LIKE '%Annabel%' AND p.address_street_name = 'Franklin Ave'\").fetchall())"
   ]
  },
  {
   "cell_type": "markdown",
   "metadata": {},
   "source": [
    "### Guilty person 1: Jeremy Bowers id 67318"
   ]
  },
  {
   "cell_type": "code",
   "execution_count": 20,
   "metadata": {},
   "outputs": [
    {
     "name": "stdout",
     "output_type": "stream",
     "text": [
      "[('48Z55', 67318, 'Jeremy Bowers', 20160101, 'gold', '48Z55', 20180109, 1530, 1700, 67318, 'Jeremy Bowers', 423327, 530, 'Washington Pl, Apt 3A', 871539279, 423327, 30, 70, 'brown', 'brown', 'male', '0H42W2', 'Chevrolet', 'Spark LS')]\n"
     ]
    }
   ],
   "source": [
    "print(cursorObj.execute(\"SELECT * FROM get_fit_now_member AS g \" +\n",
    "                        \"INNER JOIN get_fit_now_check_in AS i ON g.id = i.membership_id \" +\n",
    "                        \"INNER JOIN person AS p ON g.person_id = p.id \" +\n",
    "                        \"INNER JOIN drivers_license AS d ON p.license_id = d.id \" +\n",
    "                        \"WHERE g.membership_status = 'gold' AND \" +\n",
    "                        \"i.membership_id LIKE '48Z%' AND \" +\n",
    "                        \"i.check_in_date = 20180109 AND \" +\n",
    "                        \"d.plate_number LIKE '%H42W%'\").fetchall())"
   ]
  },
  {
   "cell_type": "markdown",
   "metadata": {},
   "source": [
    "### Guilty person 2: Miranda Priestly id 99716"
   ]
  },
  {
   "cell_type": "code",
   "execution_count": 24,
   "metadata": {},
   "outputs": [
    {
     "name": "stdout",
     "output_type": "stream",
     "text": [
      "[(67318, 'I was hired by a woman with a lot of money. I don\\'t know her name but I know she\\'s around 5\\'5\" (65\") or 5\\'7\" (67\"). She has red hair and she drives a Tesla Model S. I know that she attended the SQL Symphony Concert 3 times in December 2017.\\n')]\n"
     ]
    }
   ],
   "source": [
    "print(cursorObj.execute(\"SELECT * FROM interview WHERE person_id = 67318\").fetchall())"
   ]
  },
  {
   "cell_type": "code",
   "execution_count": 42,
   "metadata": {},
   "outputs": [
    {
     "name": "stdout",
     "output_type": "stream",
     "text": [
      "[('Miranda Priestly', 99716, 3)]\n"
     ]
    }
   ],
   "source": [
    "print(cursorObj.execute(\"SELECT p.name, p.id, COUNT(*) FROM person as p INNER JOIN drivers_license as d ON p.license_id = d.id INNER JOIN facebook_event_checkin as f ON p.id = f.person_id WHERE d.height BETWEEN 65 AND 67 AND d.hair_color = 'red' AND d.car_make = 'Tesla' AND d.car_model = 'Model S' AND d.gender = 'female' AND f.event_name = 'SQL Symphony Concert' GROUP BY p.name\").fetchall())"
   ]
  },
  {
   "cell_type": "markdown",
   "metadata": {},
   "source": [
    "### Checking my answer"
   ]
  },
  {
   "cell_type": "code",
   "execution_count": 23,
   "metadata": {},
   "outputs": [
    {
     "data": {
      "text/plain": [
       "\"Congrats, you found the murderer! But wait, there's more... If you think you're up for a challenge, try querying the interview transcript of the murderer to find the real villian behind this crime. If you feel especially confident in your SQL skills, try to complete this final step with no more than 2 queries. Use this same INSERT statement with your new suspect to check your answer.\""
      ]
     },
     "execution_count": 23,
     "metadata": {},
     "output_type": "execute_result"
    }
   ],
   "source": [
    "sql = \"INSERT INTO solution VALUES (1, 'Jeremy Bowers')\"\n",
    "cursorObj.execute(sql)\n",
    "conn.commit()\n",
    "var = pd.read_sql(\"SELECT value FROM solution\", conn)\n",
    "var.iloc[0,0]"
   ]
  },
  {
   "cell_type": "code",
   "execution_count": 43,
   "metadata": {},
   "outputs": [
    {
     "data": {
      "text/plain": [
       "'Congrats, you found the brains behind the murder! Everyone in SQL City hails you as the greatest SQL detective of all time. Time to break out the champagne!'"
      ]
     },
     "execution_count": 43,
     "metadata": {},
     "output_type": "execute_result"
    }
   ],
   "source": [
    "sql = \"INSERT INTO solution VALUES (1, 'Miranda Priestly')\"\n",
    "cursorObj.execute(sql)\n",
    "conn.commit()\n",
    "var = pd.read_sql(\"SELECT value FROM solution\", conn)\n",
    "var.iloc[0,0]"
   ]
  }
 ],
 "metadata": {
  "kernelspec": {
   "display_name": "Python 3",
   "language": "python",
   "name": "python3"
  },
  "language_info": {
   "codemirror_mode": {
    "name": "ipython",
    "version": 3
   },
   "file_extension": ".py",
   "mimetype": "text/x-python",
   "name": "python",
   "nbconvert_exporter": "python",
   "pygments_lexer": "ipython3",
   "version": "3.8.5"
  }
 },
 "nbformat": 4,
 "nbformat_minor": 4
}
